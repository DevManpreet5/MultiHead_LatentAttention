{
 "cells": [
  {
   "cell_type": "code",
   "execution_count": 1,
   "metadata": {},
   "outputs": [],
   "source": [
    "import torch\n",
    "import torch.nn as nn\n",
    "import torch.nn.functional as F"
   ]
  },
  {
   "cell_type": "code",
   "execution_count": 11,
   "metadata": {},
   "outputs": [],
   "source": [
    "class ropeless(nn.Module):\n",
    "    def __init__(self,d_model,kv_latent_dim,num_head):\n",
    "        super().__init__()\n",
    "        self.d_model=d_model\n",
    "        self.kv_latent_dim=kv_latent_dim\n",
    "        self.num_heads=num_head\n",
    "\n",
    "        self.dim_each_head=d_model//num_head\n",
    "\n",
    "        self.W_q=nn.Linear(d_model,d_model,bias=False)\n",
    "        self.W_dkv=nn.Linear(d_model,kv_latent_dim,bias=False)\n",
    "        self.W_uk=nn.Linear(kv_latent_dim,d_model,bias=False)\n",
    "        self.W_uv=nn.Linear(kv_latent_dim,d_model,bias=False)\n",
    "        self.W_o=nn.Linear(d_model,d_model,bias=False)\n",
    "\n",
    "        self.layernom=nn.LayerNorm(kv_latent_dim)\n",
    "        self.register_buffer('absorbed',None)\n",
    "\n",
    "    \n",
    "    def forward(self,x,kv_cache=None,past_length=0):\n",
    "        batch,size1,dim=x.size()\n",
    "\n",
    "        if self.absorbed is None:\n",
    "            absorbed=torch.matmul(self.W_q.weight,self.W_uk.weight)\n",
    "            self.absorbed=absorbed.view(self.num_heads,self.dim_each_head,-1) # basically jitne head hai utne me split krna hoga , if nhead=2 divide absorbed in 2 parts \n",
    "        \n",
    "        new_cache_kv=self.layernom(self.W_dkv(x))\n",
    "\n",
    "        if kv_cache is None:\n",
    "            cache_kv=new_cache_kv\n",
    "        else:\n",
    "            cache_kv=torch.cat([kv_cache,new_cache_kv],dim=1)\n",
    "\n",
    "        \n",
    "        size_full=cache_kv.size(1)\n",
    "        value_full=self.W_uv(cache_kv)\n",
    "        v=value_full.view(batch,size_full,self.num_heads,self.dim_each_head).transpose(1,2)\n",
    "\n",
    "        q=x.view(batch,size1,self.num_heads,self.dim_each_head)\n",
    "        attn_score=torch.zeros(batch,self.num_heads,size1,size_full,device=x.device)\n",
    "\n",
    "        for heads in range(self.num_heads):\n",
    "            scores=torch.matmul(q[:,:,heads],self.absorbed[heads])\n",
    "            attn_score[:,heads]=torch.bmm(scores,cache_kv.transpose(1,2))\n",
    "\n",
    "        attn_score = attn_score / (self.dim_each_head ** 0.5)\n",
    "        mask = torch.tril(torch.ones((size1, size_full), device=x.device), diagonal=past_length)\n",
    "        attn_score = attn_score.masked_fill(mask.view(1, 1, size1, size_full) == 0, float('-inf'))\n",
    "\n",
    "        attn_weights = F.softmax(attn_score, dim=-1)  \n",
    "\n",
    "        out_heads = []\n",
    "        for h in range(self.num_heads):\n",
    "            context_h = torch.matmul(attn_weights[:, h], v[:, h])  \n",
    "            out_heads.append(context_h)\n",
    "\n",
    "        out = torch.cat(out_heads, dim=-1)  \n",
    "        return self.W_o(out), cache_kv\n",
    "        \n",
    "\n"
   ]
  },
  {
   "cell_type": "code",
   "execution_count": 12,
   "metadata": {},
   "outputs": [
    {
     "name": "stdout",
     "output_type": "stream",
     "text": [
      "Output shape: torch.Size([2, 16, 512])\n",
      "Cache shape: torch.Size([2, 16, 128])\n"
     ]
    }
   ],
   "source": [
    "d_model = 512\n",
    "n_heads = 8\n",
    "seq_len = 16\n",
    "batch_size = 2\n",
    "kv_latent_dim = 128 \n",
    "\n",
    "\n",
    "x = torch.randn(batch_size, seq_len, d_model)\n",
    "\n",
    "\n",
    "model = ropeless(d_model=d_model, kv_latent_dim=kv_latent_dim, num_head=n_heads)\n",
    "\n",
    "out, new_cache = model(x)\n",
    "\n",
    "print(f\"Output shape: {out.shape}\")        # Expected: (batch_size, seq_len, d_model)\n",
    "print(f\"Cache shape: {new_cache.shape}\")   # Expected: (batch_size, seq_len, kv_latent_dim)"
   ]
  }
 ],
 "metadata": {
  "kernelspec": {
   "display_name": "Python 3",
   "language": "python",
   "name": "python3"
  },
  "language_info": {
   "codemirror_mode": {
    "name": "ipython",
    "version": 3
   },
   "file_extension": ".py",
   "mimetype": "text/x-python",
   "name": "python",
   "nbconvert_exporter": "python",
   "pygments_lexer": "ipython3",
   "version": "3.9.7"
  }
 },
 "nbformat": 4,
 "nbformat_minor": 2
}
